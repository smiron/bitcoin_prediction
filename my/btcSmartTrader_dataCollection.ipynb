{
 "cells": [
  {
   "cell_type": "code",
   "execution_count": 2,
   "metadata": {},
   "outputs": [],
   "source": [
    "import pypyodbc \n",
    "import pandas as pd\n",
    "\n",
    "cnxn = pypyodbc.connect(\"Driver={SQL Server Native Client 11.0};\"\n",
    "                        \"Server=.,1433;\"\n",
    "                        \"Database=btcSmartTrader;\"\n",
    "                        \"uid=sa;pwd=P@ssw0rd\")\n",
    "df = pd.read_sql_query('select * from dbo.bitcoinTwitter', cnxn, parse_dates=['timestamp'])"
   ]
  },
  {
   "cell_type": "code",
   "execution_count": 6,
   "metadata": {
    "collapsed": true
   },
   "outputs": [],
   "source": [
    "df['polarity'] = 0"
   ]
  },
  {
   "cell_type": "code",
   "execution_count": 7,
   "metadata": {},
   "outputs": [
    {
     "name": "stdout",
     "output_type": "stream",
     "text": [
      "['id' 'priceopen' 'priceclose' 'pricechange' 'timestamp' 'tweetid'\n",
      " 'tweetcreatedate' 'tweetlang' 'tweettext' 'polarity']\n"
     ]
    }
   ],
   "source": [
    "print(df.columns.values)"
   ]
  },
  {
   "cell_type": "code",
   "execution_count": 8,
   "metadata": {
    "collapsed": true
   },
   "outputs": [],
   "source": [
    "from textblob import TextBlob\n",
    "import re\n",
    "\n",
    "def clean_tweet(tweet):\n",
    "    '''\n",
    "    Utility function to clean tweet text by removing links, special characters\n",
    "    using simple regex statements.\n",
    "    '''\n",
    "    return ' '.join(re.sub(\"(@[A-Za-z0-9]+)|([^0-9A-Za-z \\t])|(\\w+:\\/\\/\\S+)\", \" \", tweet).split())\n",
    "\n",
    "def get_tweet_sentiment(tweet):\n",
    "    '''\n",
    "    Utility function to classify sentiment of passed tweet\n",
    "    using textblob's sentiment method\n",
    "    '''\n",
    "    # create TextBlob object of passed tweet text\n",
    "    analysis = TextBlob(clean_tweet(tweet))\n",
    "\n",
    "    return analysis.sentiment.polarity\n",
    "\n",
    "df['polarity'] = df.apply(lambda row: get_tweet_sentiment(row['tweettext']), axis=1)\n"
   ]
  },
  {
   "cell_type": "code",
   "execution_count": 9,
   "metadata": {},
   "outputs": [
    {
     "name": "stdout",
     "output_type": "stream",
     "text": [
      "   id  priceopen  priceclose  pricechange           timestamp  \\\n",
      "0   1   11230.96    11270.25     0.003498 2018-01-25 20:21:42   \n",
      "1   2   11230.96    11270.25     0.003498 2018-01-25 20:21:42   \n",
      "2   3   11230.96    11270.25     0.003498 2018-01-25 20:21:42   \n",
      "\n",
      "              tweetid     tweetcreatedate tweetlang  \\\n",
      "0  956623229958983681 2018-01-25 20:22:05        en   \n",
      "1  956623227450810368 2018-01-25 20:22:05        en   \n",
      "2  956623229061402624 2018-01-25 20:22:05        en   \n",
      "\n",
      "                                           tweettext  polarity  \n",
      "0  RT @netflix: FRIENDS 2018 PLOTLINES-Joey eats ...       0.0  \n",
      "1  You Can Now Use Bitcoin as Collateral When App...       0.0  \n",
      "2  RT @KenanMusaev: Progress of development... #L...       0.0  \n"
     ]
    }
   ],
   "source": [
    "print(df[:3])"
   ]
  },
  {
   "cell_type": "code",
   "execution_count": 10,
   "metadata": {
    "collapsed": true
   },
   "outputs": [],
   "source": [
    "df.to_csv(\"bitcoinTwitterPolarity.csv\")"
   ]
  },
  {
   "cell_type": "code",
   "execution_count": null,
   "metadata": {
    "collapsed": true
   },
   "outputs": [],
   "source": []
  }
 ],
 "metadata": {
  "kernelspec": {
   "display_name": "Python 3",
   "language": "python",
   "name": "python3"
  },
  "language_info": {
   "codemirror_mode": {
    "name": "ipython",
    "version": 3
   },
   "file_extension": ".py",
   "mimetype": "text/x-python",
   "name": "python",
   "nbconvert_exporter": "python",
   "pygments_lexer": "ipython3",
   "version": "3.6.3"
  },
  "widgets": {
   "application/vnd.jupyter.widget-state+json": {
    "state": {},
    "version_major": 2,
    "version_minor": 0
   }
  }
 },
 "nbformat": 4,
 "nbformat_minor": 2
}
